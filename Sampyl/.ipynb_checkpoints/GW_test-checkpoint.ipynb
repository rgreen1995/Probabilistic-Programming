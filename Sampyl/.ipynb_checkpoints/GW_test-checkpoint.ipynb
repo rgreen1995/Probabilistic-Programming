{
 "cells": [
  {
   "cell_type": "code",
   "execution_count": null,
   "metadata": {},
   "outputs": [],
   "source": [
    "%load_ext autoreload\n",
    "%autoreload 2\n",
    "%matplotlib inline\n",
    "%config InlineBackend.figure_format = 'retina'\n",
    "\n",
    "\n",
    "import matplotlib.pyplot as plt\n",
    "import sampyl as smp\n",
    "from autograd import grad \n",
    "from autograd import elementwise_grad as egrad\n",
    "from sampyl import np\n",
    "import sys\n",
    "sys.path.append('..')\n",
    "from TaylorF2_hack import hacked_TaylorF2\n",
    "from TaylorF2 import TaylorF2\n",
    "\n",
    "# Autograd throws some warnings that are useful, but this is\n",
    "# a demonstration, so I'll squelch them.\n",
    "import warnings"
   ]
  },
  {
   "cell_type": "code",
   "execution_count": 43,
   "metadata": {
    "collapsed": true
   },
   "outputs": [],
   "source": [
    "n_points = 200\n",
    "Mf_max = 1.0/(6**(3.0/2.0) * np.pi) # cut at ISCO\n",
    "Mf_array = np.linspace(1e-3, Mf_max, n_points) # Geometric frequency\n",
    "Mf0 = 0.01\n",
    "A0 =1.\n",
    "params = np.array([5. , 10. , 0. , 0.])"
   ]
  },
  {
   "cell_type": "code",
   "execution_count": 48,
   "metadata": {
    "collapsed": true
   },
   "outputs": [],
   "source": [
    "pn_hack = hacked_TaylorF2(params)\n",
    "pn = TaylorF2(5., 10., 0. , 0.)\n",
    "strain_hack = pn_hack.only_compute_strain()\n",
    "strain = pn.compute_strain(Mf_array , Mf0 , A0)"
   ]
  },
  {
   "cell_type": "code",
   "execution_count": 45,
   "metadata": {
    "collapsed": true
   },
   "outputs": [],
   "source": [
    "n_points = 200\n",
    "rescaling = 1e3 # Neural networks seem to work better with normalized data\n",
    "\n",
    "Mf_max = 1.0/(6**(3.0/2.0) * np.pi) # cut at ISCO\n",
    "Mf_array = np.linspace(1e-3, Mf_max, n_points) # Geometric frequency"
   ]
  },
  {
   "cell_type": "code",
   "execution_count": 49,
   "metadata": {
    "collapsed": true
   },
   "outputs": [],
   "source": [
    "# plt.figure()\n",
    "# plt.plot(Mf_array , strain , label = 'real')\n",
    "# plt.legend()\n",
    "\n",
    "# plt.figure()\n",
    "# plt.plot(Mf_array , strain_hack , label = 'hacked')\n",
    "# plt.legend()\n",
    "# plt.show()"
   ]
  },
  {
   "cell_type": "code",
   "execution_count": 111,
   "metadata": {},
   "outputs": [
    {
     "name": "stdout",
     "output_type": "stream",
     "text": [
      "Help on function fails_constraints in module sampyl.distributions:\n",
      "\n",
      "fails_constraints(*conditions)\n",
      "    Utility function for catching out of bound parameters. Returns True if \n",
      "    any of the conditions aren't met. Typically you'll use this at the\n",
      "    beginning of defining the log P(X) functions. Example ::\n",
      "    \n",
      "        def logp(x, y):\n",
      "            # Bound x and y to be greater than 0\n",
      "            if outofbounds(x > 0, y > 0):\n",
      "                return -np.inf\n",
      "\n"
     ]
    }
   ],
   "source": [
    "help(smp.fails_constraints)"
   ]
  },
  {
   "cell_type": "code",
   "execution_count": null,
   "metadata": {},
   "outputs": [],
   "source": [
    "def GW_loglike(m1, m2 , chi1 , chi2 ):\n",
    "    model = smp.Model()\n",
    "    sig = 1\n",
    "    # Bound x and y to be greater than 0\n",
    "    model.add(smp.fails_constraints())\n",
    "    if m2 > m1:\n",
    "        return -np.inf\n",
    "   \n",
    "    # Estimate from our data and coefficients\n",
    "    wave = TaylorF2(m1 , m2 , chi1 , chi2)\n",
    "    inf_strain = wave.compute_strain(Mf_array, Mf0 , A0)\n",
    "    \n",
    "    # Add prior for estimate error\n",
    "    model.add(smp.normal(sig , 0 , 1))\n",
    "    \n",
    "    # Uniform priors on coefficients\n",
    "    model.add(smp.normal(m1, mu = 10, sig = 20))\n",
    "    model.add(smp.normal(m2, mu = 5, sig = 20))\n",
    "    model.add(smp.uniform(chi1, lower = -0.1, upper = 0.1))\n",
    "    model.add(smp.uniform(chi2,lower =-0.1, upper =0.1))\n",
    "    \n",
    "    diff = (strain - inf_strain)**2\n",
    "    norm_diff = np.linalg.norm(diff)    \n",
    "    # Add log-likelihood\n",
    "    model.add(smp.normal(0, mu = norm_diff, sig=sig)) \n",
    "    \n",
    "    return model()\n",
    "\n",
    "def dGW_loglike(m1, m2 , chi1 , chi2):\n",
    "    gradient = grad(GW_loglike)\n",
    "    return gradient(m1 , m2 , chi1 , chi2)\n",
    "\n",
    "\n",
    "dGW_loglike(10.0000001, 5.0000001 , 0.0000001 , 0.0000001)"
   ]
  },
  {
   "cell_type": "code",
   "execution_count": null,
   "metadata": {
    "collapsed": true
   },
   "outputs": [],
   "source": [
    "start = {'m1': 5. , 'm2':2. ,'chi1': 0.5 \n",
    "         ,'chi2': 0.5}\n",
    "sampler = smp.NUTS(GW_loglike, start , step_size = 0.1 )\n",
    "chain = sampler(800, burn=100, thin=4 , n_chains = 4)"
   ]
  },
  {
   "cell_type": "code",
   "execution_count": 97,
   "metadata": {},
   "outputs": [
    {
     "data": {
      "image/png": "[encoded data removed]",
      "text/plain": [
       "<matplotlib.figure.Figure at 0x1508aeb4e0>"
      ]
     },
     "metadata": {
      "image/png": {
       "height": 250,
       "width": 380
      }
     },
     "output_type": "display_data"
    },
    {
     "data": {
      "image/png": "[encoded data removed]",
      "text/plain": [
       "<matplotlib.figure.Figure at 0x15074d1d30>"
      ]
     },
     "metadata": {
      "image/png": {
       "height": 250,
       "width": 370
      }
     },
     "output_type": "display_data"
    }
   ],
   "source": [
    "plt.figure()\n",
    "plt.plot(chain[3].m1)\n",
    "plt.figure()\n",
    "plt.hist(chain[3].m1, bins=30)\n",
    "plt.show()"
   ]
  },
  {
   "cell_type": "code",
   "execution_count": 93,
   "metadata": {},
   "outputs": [
    {
     "data": {
      "text/plain": [
       "[rec.array([( 1.08702106,  1.7126412,  0.96426862,  1.02245625),\n",
       "            ( 1.08702106,  1.7126412,  0.96426862,  1.02245625),\n",
       "            ( 1.08702106,  1.7126412,  0.96426862,  1.02245625),\n",
       "            ( 1.08702106,  1.7126412,  0.96426862,  1.02245625),\n",
       "            ( 1.08702106,  1.7126412,  0.96426862,  1.02245625),\n",
       "            ( 1.08702106,  1.7126412,  0.96426862,  1.02245625),\n",
       "            ( 1.08702106,  1.7126412,  0.96426862,  1.02245625),\n",
       "            ( 1.08702106,  1.7126412,  0.96426862,  1.02245625),\n",
       "            ( 1.08702106,  1.7126412,  0.96426862,  1.02245625),\n",
       "            ( 1.08702106,  1.7126412,  0.96426862,  1.02245625),\n",
       "            ( 1.08702106,  1.7126412,  0.96426862,  1.02245625),\n",
       "            ( 1.08702106,  1.7126412,  0.96426862,  1.02245625),\n",
       "            ( 1.08702106,  1.7126412,  0.96426862,  1.02245625),\n",
       "            ( 1.08702106,  1.7126412,  0.96426862,  1.02245625),\n",
       "            ( 1.08702106,  1.7126412,  0.96426862,  1.02245625),\n",
       "            ( 1.08702106,  1.7126412,  0.96426862,  1.02245625),\n",
       "            ( 1.08702106,  1.7126412,  0.96426862,  1.02245625),\n",
       "            ( 1.08702106,  1.7126412,  0.96426862,  1.02245625),\n",
       "            ( 1.08702106,  1.7126412,  0.96426862,  1.02245625),\n",
       "            ( 1.08702106,  1.7126412,  0.96426862,  1.02245625),\n",
       "            ( 1.08702106,  1.7126412,  0.96426862,  1.02245625),\n",
       "            ( 1.08702106,  1.7126412,  0.96426862,  1.02245625),\n",
       "            ( 1.08702106,  1.7126412,  0.96426862,  1.02245625),\n",
       "            ( 1.08702106,  1.7126412,  0.96426862,  1.02245625),\n",
       "            ( 1.08702106,  1.7126412,  0.96426862,  1.02245625),\n",
       "            ( 1.08702106,  1.7126412,  0.96426862,  1.02245625),\n",
       "            ( 1.08702106,  1.7126412,  0.96426862,  1.02245625),\n",
       "            ( 1.08702106,  1.7126412,  0.96426862,  1.02245625),\n",
       "            ( 1.08702106,  1.7126412,  0.96426862,  1.02245625),\n",
       "            ( 1.08702106,  1.7126412,  0.96426862,  1.02245625),\n",
       "            ( 1.08702106,  1.7126412,  0.96426862,  1.02245625),\n",
       "            ( 1.08702106,  1.7126412,  0.96426862,  1.02245625),\n",
       "            ( 1.08702106,  1.7126412,  0.96426862,  1.02245625),\n",
       "            ( 1.08702106,  1.7126412,  0.96426862,  1.02245625),\n",
       "            ( 1.08702106,  1.7126412,  0.96426862,  1.02245625),\n",
       "            ( 1.08702106,  1.7126412,  0.96426862,  1.02245625),\n",
       "            ( 1.08702106,  1.7126412,  0.96426862,  1.02245625),\n",
       "            ( 1.08702106,  1.7126412,  0.96426862,  1.02245625)], \n",
       "           dtype=[('m1', '<f8'), ('m2', '<f8'), ('chi1', '<f8'), ('chi2', '<f8')]),\n",
       " rec.array([( 1.33457816,  2.08332162,  0.94894155,  1.13048318),\n",
       "            ( 1.33457816,  2.08332162,  0.94894155,  1.13048318),\n",
       "            ( 1.33457816,  2.08332162,  0.94894155,  1.13048318),\n",
       "            ( 1.33457816,  2.08332162,  0.94894155,  1.13048318),\n",
       "            ( 1.33457816,  2.08332162,  0.94894155,  1.13048318),\n",
       "            ( 1.33457816,  2.08332162,  0.94894155,  1.13048318),\n",
       "            ( 1.33457816,  2.08332162,  0.94894155,  1.13048318),\n",
       "            ( 1.33457816,  2.08332162,  0.94894155,  1.13048318),\n",
       "            ( 1.33457816,  2.08332162,  0.94894155,  1.13048318),\n",
       "            ( 1.33457816,  2.08332162,  0.94894155,  1.13048318),\n",
       "            ( 1.33457816,  2.08332162,  0.94894155,  1.13048318),\n",
       "            ( 1.33457816,  2.08332162,  0.94894155,  1.13048318),\n",
       "            ( 1.33457816,  2.08332162,  0.94894155,  1.13048318),\n",
       "            ( 1.33457816,  2.08332162,  0.94894155,  1.13048318),\n",
       "            ( 1.33457816,  2.08332162,  0.94894155,  1.13048318),\n",
       "            ( 1.33457816,  2.08332162,  0.94894155,  1.13048318),\n",
       "            ( 1.33457816,  2.08332162,  0.94894155,  1.13048318),\n",
       "            ( 1.33457816,  2.08332162,  0.94894155,  1.13048318),\n",
       "            ( 1.33457816,  2.08332162,  0.94894155,  1.13048318),\n",
       "            ( 1.33457816,  2.08332162,  0.94894155,  1.13048318),\n",
       "            ( 1.33457816,  2.08332162,  0.94894155,  1.13048318),\n",
       "            ( 1.33457816,  2.08332162,  0.94894155,  1.13048318),\n",
       "            ( 1.33457816,  2.08332162,  0.94894155,  1.13048318),\n",
       "            ( 1.33457816,  2.08332162,  0.94894155,  1.13048318),\n",
       "            ( 1.33457816,  2.08332162,  0.94894155,  1.13048318),\n",
       "            ( 1.33457816,  2.08332162,  0.94894155,  1.13048318),\n",
       "            ( 1.33457816,  2.08332162,  0.94894155,  1.13048318),\n",
       "            ( 1.33457816,  2.08332162,  0.94894155,  1.13048318),\n",
       "            ( 1.33457816,  2.08332162,  0.94894155,  1.13048318),\n",
       "            ( 1.33457816,  2.08332162,  0.94894155,  1.13048318),\n",
       "            ( 1.33457816,  2.08332162,  0.94894155,  1.13048318),\n",
       "            ( 1.33457816,  2.08332162,  0.94894155,  1.13048318),\n",
       "            ( 1.33457816,  2.08332162,  0.94894155,  1.13048318),\n",
       "            ( 1.33457816,  2.08332162,  0.94894155,  1.13048318),\n",
       "            ( 1.33457816,  2.08332162,  0.94894155,  1.13048318),\n",
       "            ( 1.33457816,  2.08332162,  0.94894155,  1.13048318),\n",
       "            ( 1.33457816,  2.08332162,  0.94894155,  1.13048318),\n",
       "            ( 1.33457816,  2.08332162,  0.94894155,  1.13048318)], \n",
       "           dtype=[('m1', '<f8'), ('m2', '<f8'), ('chi1', '<f8'), ('chi2', '<f8')]),\n",
       " rec.array([( 0.78321281,  1.10549581,  1.33439548,  1.09834902),\n",
       "            ( 0.78321281,  1.10549581,  1.33439548,  1.09834902),\n",
       "            ( 0.78321281,  1.10549581,  1.33439548,  1.09834902),\n",
       "            ( 0.78321281,  1.10549581,  1.33439548,  1.09834902),\n",
       "            ( 0.78321281,  1.10549581,  1.33439548,  1.09834902),\n",
       "            ( 0.78321281,  1.10549581,  1.33439548,  1.09834902),\n",
       "            ( 0.78321281,  1.10549581,  1.33439548,  1.09834902),\n",
       "            ( 0.78321281,  1.10549581,  1.33439548,  1.09834902),\n",
       "            ( 0.78321281,  1.10549581,  1.33439548,  1.09834902),\n",
       "            ( 0.78321281,  1.10549581,  1.33439548,  1.09834902),\n",
       "            ( 0.78321281,  1.10549581,  1.33439548,  1.09834902),\n",
       "            ( 0.78321281,  1.10549581,  1.33439548,  1.09834902),\n",
       "            ( 0.78321281,  1.10549581,  1.33439548,  1.09834902),\n",
       "            ( 0.78321281,  1.10549581,  1.33439548,  1.09834902),\n",
       "            ( 0.78321281,  1.10549581,  1.33439548,  1.09834902),\n",
       "            ( 0.78321281,  1.10549581,  1.33439548,  1.09834902),\n",
       "            ( 0.78321281,  1.10549581,  1.33439548,  1.09834902),\n",
       "            ( 0.78321281,  1.10549581,  1.33439548,  1.09834902),\n",
       "            ( 0.78321281,  1.10549581,  1.33439548,  1.09834902),\n",
       "            ( 0.78321281,  1.10549581,  1.33439548,  1.09834902),\n",
       "            ( 0.78321281,  1.10549581,  1.33439548,  1.09834902),\n",
       "            ( 0.78321281,  1.10549581,  1.33439548,  1.09834902),\n",
       "            ( 0.78321281,  1.10549581,  1.33439548,  1.09834902),\n",
       "            ( 0.78321281,  1.10549581,  1.33439548,  1.09834902),\n",
       "            ( 0.78321281,  1.10549581,  1.33439548,  1.09834902),\n",
       "            ( 0.78321281,  1.10549581,  1.33439548,  1.09834902),\n",
       "            ( 0.78321281,  1.10549581,  1.33439548,  1.09834902),\n",
       "            ( 0.78321281,  1.10549581,  1.33439548,  1.09834902),\n",
       "            ( 0.78321281,  1.10549581,  1.33439548,  1.09834902),\n",
       "            ( 0.78321281,  1.10549581,  1.33439548,  1.09834902),\n",
       "            ( 0.78321281,  1.10549581,  1.33439548,  1.09834902),\n",
       "            ( 0.78321281,  1.10549581,  1.33439548,  1.09834902),\n",
       "            ( 0.78321281,  1.10549581,  1.33439548,  1.09834902),\n",
       "            ( 0.78321281,  1.10549581,  1.33439548,  1.09834902),\n",
       "            ( 0.78321281,  1.10549581,  1.33439548,  1.09834902),\n",
       "            ( 0.78321281,  1.10549581,  1.33439548,  1.09834902),\n",
       "            ( 0.78321281,  1.10549581,  1.33439548,  1.09834902),\n",
       "            ( 0.78321281,  1.10549581,  1.33439548,  1.09834902)], \n",
       "           dtype=[('m1', '<f8'), ('m2', '<f8'), ('chi1', '<f8'), ('chi2', '<f8')]),\n",
       " rec.array([( 0.75648314,  2.19343199,  0.74260221,  0.8508423),\n",
       "            ( 0.75648314,  2.19343199,  0.74260221,  0.8508423),\n",
       "            ( 0.75648314,  2.19343199,  0.74260221,  0.8508423),\n",
       "            ( 0.75648314,  2.19343199,  0.74260221,  0.8508423),\n",
       "            ( 0.75648314,  2.19343199,  0.74260221,  0.8508423),\n",
       "            ( 0.75648314,  2.19343199,  0.74260221,  0.8508423),\n",
       "            ( 0.75648314,  2.19343199,  0.74260221,  0.8508423),\n",
       "            ( 0.75648314,  2.19343199,  0.74260221,  0.8508423),\n",
       "            ( 0.75648314,  2.19343199,  0.74260221,  0.8508423),\n",
       "            ( 0.75648314,  2.19343199,  0.74260221,  0.8508423),\n",
       "            ( 0.75648314,  2.19343199,  0.74260221,  0.8508423),\n",
       "            ( 0.75648314,  2.19343199,  0.74260221,  0.8508423),\n",
       "            ( 0.75648314,  2.19343199,  0.74260221,  0.8508423),\n",
       "            ( 0.75648314,  2.19343199,  0.74260221,  0.8508423),\n",
       "            ( 0.75648314,  2.19343199,  0.74260221,  0.8508423),\n",
       "            ( 0.75648314,  2.19343199,  0.74260221,  0.8508423),\n",
       "            ( 0.75648314,  2.19343199,  0.74260221,  0.8508423),\n",
       "            ( 0.75648314,  2.19343199,  0.74260221,  0.8508423),\n",
       "            ( 0.75648314,  2.19343199,  0.74260221,  0.8508423),\n",
       "            ( 0.75648314,  2.19343199,  0.74260221,  0.8508423),\n",
       "            ( 0.75648314,  2.19343199,  0.74260221,  0.8508423),\n",
       "            ( 0.75648314,  2.19343199,  0.74260221,  0.8508423),\n",
       "            ( 0.75648314,  2.19343199,  0.74260221,  0.8508423),\n",
       "            ( 0.75648314,  2.19343199,  0.74260221,  0.8508423),\n",
       "            ( 0.75648314,  2.19343199,  0.74260221,  0.8508423),\n",
       "            ( 0.75648314,  2.19343199,  0.74260221,  0.8508423),\n",
       "            ( 0.75648314,  2.19343199,  0.74260221,  0.8508423),\n",
       "            ( 0.75648314,  2.19343199,  0.74260221,  0.8508423),\n",
       "            ( 0.75648314,  2.19343199,  0.74260221,  0.8508423),\n",
       "            ( 0.75648314,  2.19343199,  0.74260221,  0.8508423),\n",
       "            ( 0.75648314,  2.19343199,  0.74260221,  0.8508423),\n",
       "            ( 0.75648314,  2.19343199,  0.74260221,  0.8508423),\n",
       "            ( 0.75648314,  2.19343199,  0.74260221,  0.8508423),\n",
       "            ( 0.75648314,  2.19343199,  0.74260221,  0.8508423),\n",
       "            ( 0.75648314,  2.19343199,  0.74260221,  0.8508423),\n",
       "            ( 0.75648314,  2.19343199,  0.74260221,  0.8508423),\n",
       "            ( 0.75648314,  2.19343199,  0.74260221,  0.8508423),\n",
       "            ( 0.75648314,  2.19343199,  0.74260221,  0.8508423)], \n",
       "           dtype=[('m1', '<f8'), ('m2', '<f8'), ('chi1', '<f8'), ('chi2', '<f8')])]"
      ]
     },
     "execution_count": 93,
     "metadata": {},
     "output_type": "execute_result"
    }
   ],
   "source": []
  },
  {
   "cell_type": "code",
   "execution_count": null,
   "metadata": {
    "collapsed": true
   },
   "outputs": [],
   "source": []
  }
 ],
 "metadata": {
  "kernelspec": {
   "display_name": "Python 3",
   "language": "python",
   "name": "python3"
  },
  "language_info": {
   "codemirror_mode": {
    "name": "ipython",
    "version": 3
   },
   "file_extension": ".py",
   "mimetype": "text/x-python",
   "name": "python",
   "nbconvert_exporter": "python",
   "pygments_lexer": "ipython3",
   "version": "3.6.3"
  }
 },
 "nbformat": 4,
 "nbformat_minor": 2
}

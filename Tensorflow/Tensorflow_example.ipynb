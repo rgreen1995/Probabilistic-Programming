{
 "cells": [
  {
   "cell_type": "code",
   "execution_count": 2,
   "metadata": {},
   "outputs": [],
   "source": [
    "from __future__ import division\n",
    "from __future__ import print_function\n",
    "\n",
    "import matplotlib.pyplot as plt\n",
    "import numpy as np\n",
    "import seaborn as sns\n",
    "\n",
    "import tensorflow as tf\n",
    "import tensorflow_probability as tfp\n",
    "from tensorflow_probability import edward2 as ed\n",
    "import warnings\n",
    "\n",
    "plt.style.use(\"ggplot\")\n",
    "warnings.filterwarnings('ignore')"
   ]
  },
  {
   "cell_type": "markdown",
   "metadata": {},
   "source": [
    "# Create noisy data, from which we want to infer linear paramers, "
   ]
  },
  {
   "cell_type": "code",
   "execution_count": 25,
   "metadata": {
    "collapsed": true
   },
   "outputs": [],
   "source": [
    "def build_toy_dataset(N, w, noise_std=0.1):\n",
    "  D = len(w)\n",
    "  x = np.random.randn(N, D)\n",
    "  y = np.dot(x, w) + np.random.normal(0, noise_std, size=N)\n",
    "  return x, y\n",
    "\n",
    "N = 40  # number of data points\n",
    "D = 1  # number of features\n",
    "\n",
    "w_true = np.random.randn(D)\n",
    "X_train, y_train = build_toy_dataset(N, w_true)\n"
   ]
  },
  {
   "cell_type": "code",
   "execution_count": 26,
   "metadata": {},
   "outputs": [],
   "source": [
    "from edward.models import Normal\n",
    "\n",
    "X = tf.placeholder(tf.float32, [N, D])\n",
    "M = ed.Normal(loc=tf.zeros(D), scale=tf.ones(D))\n",
    "\n",
    "C = ed.Normal(loc=tf.zeros(1), scale=tf.ones(1))\n",
    "y = ed.Normal(loc= np.dot(X, M) + C, scale=tf.ones(N))\n"
   ]
  },
  {
   "cell_type": "code",
   "execution_count": 27,
   "metadata": {
    "collapsed": true
   },
   "outputs": [],
   "source": [
    "qw = Normal(loc=tf.get_variable(\"qw/loc\", [D]),\n",
    "            scale=tf.nn.softplus(tf.get_variable(\"qw/scale\", [D])))\n",
    "qb = Normal(loc=tf.get_variable(\"qb/loc\", [1]),\n",
    "            scale=tf.nn.softplus(tf.get_variable(\"qb/scale\", [1])))"
   ]
  },
  {
   "cell_type": "code",
   "execution_count": null,
   "metadata": {
    "collapsed": true
   },
   "outputs": [],
   "source": [
    "ed."
   ]
  },
  {
   "cell_type": "code",
   "execution_count": 30,
   "metadata": {},
   "outputs": [
    {
     "ename": "TypeError",
     "evalue": "kl_forward() got an unexpected keyword argument 'data'",
     "output_type": "error",
     "traceback": [
      "\u001b[0;31m---------------------------------------------------------------------------\u001b[0m",
      "\u001b[0;31mTypeError\u001b[0m                                 Traceback (most recent call last)",
      "\u001b[0;32m<ipython-input-30-7430c6b7172b>\u001b[0m in \u001b[0;36m<module>\u001b[0;34m()\u001b[0m\n\u001b[0;32m----> 1\u001b[0;31m \u001b[0minference\u001b[0m \u001b[0;34m=\u001b[0m \u001b[0mtfp\u001b[0m\u001b[0;34m.\u001b[0m\u001b[0mvi\u001b[0m\u001b[0;34m.\u001b[0m\u001b[0mkl_forward\u001b[0m\u001b[0;34m(\u001b[0m\u001b[0;34m{\u001b[0m\u001b[0mw\u001b[0m\u001b[0;34m:\u001b[0m \u001b[0mqw\u001b[0m\u001b[0;34m,\u001b[0m \u001b[0mb\u001b[0m\u001b[0;34m:\u001b[0m \u001b[0mqb\u001b[0m\u001b[0;34m}\u001b[0m\u001b[0;34m,\u001b[0m \u001b[0mdata\u001b[0m\u001b[0;34m=\u001b[0m\u001b[0;34m{\u001b[0m\u001b[0mX\u001b[0m\u001b[0;34m:\u001b[0m \u001b[0mX_train\u001b[0m\u001b[0;34m,\u001b[0m \u001b[0my\u001b[0m\u001b[0;34m:\u001b[0m \u001b[0my_train\u001b[0m\u001b[0;34m}\u001b[0m\u001b[0;34m)\u001b[0m\u001b[0;34m\u001b[0m\u001b[0m\n\u001b[0m\u001b[1;32m      2\u001b[0m \u001b[0minference\u001b[0m\u001b[0;34m.\u001b[0m\u001b[0mrun\u001b[0m\u001b[0;34m(\u001b[0m\u001b[0mn_samples\u001b[0m\u001b[0;34m=\u001b[0m\u001b[0;36m5\u001b[0m\u001b[0;34m,\u001b[0m \u001b[0mn_iter\u001b[0m\u001b[0;34m=\u001b[0m\u001b[0;36m250\u001b[0m\u001b[0;34m)\u001b[0m\u001b[0;34m\u001b[0m\u001b[0m\n",
      "\u001b[0;31mTypeError\u001b[0m: kl_forward() got an unexpected keyword argument 'data'"
     ]
    }
   ],
   "source": [
    "inference = tfp.vi.kl_forward({w: qw, b: qb}, data={X: X_train, y: y_train})\n",
    "inference.run(n_samples=5, n_iter=250)"
   ]
  },
  {
   "cell_type": "code",
   "execution_count": 31,
   "metadata": {},
   "outputs": [
    {
     "name": "stdout",
     "output_type": "stream",
     "text": [
      "Help on function kl_forward in module tensorflow_probability.python.vi.csiszar_divergence:\n",
      "\n",
      "kl_forward(logu, self_normalized=False, name=None)\n",
      "    The forward Kullback-Leibler Csiszar-function in log-space.\n",
      "    \n",
      "    A Csiszar-function is a member of,\n",
      "    \n",
      "    ```none\n",
      "    F = { f:R_+ to R : f convex }.\n",
      "    ```\n",
      "    \n",
      "    When `self_normalized = True`, the KL-forward Csiszar-function is:\n",
      "    \n",
      "    ```none\n",
      "    f(u) = u log(u) - (u - 1)\n",
      "    ```\n",
      "    \n",
      "    When `self_normalized = False` the `(u - 1)` term is omitted.\n",
      "    \n",
      "    Observe that as an f-Divergence, this Csiszar-function implies:\n",
      "    \n",
      "    ```none\n",
      "    D_f[p, q] = KL[p, q]\n",
      "    ```\n",
      "    \n",
      "    The KL is \"forward\" because in maximum likelihood we think of minimizing `q`\n",
      "    as in `KL[p, q]`.\n",
      "    \n",
      "    Warning: this function makes non-log-space calculations and may therefore be\n",
      "    numerically unstable for `|logu| >> 0`.\n",
      "    \n",
      "    Args:\n",
      "      logu: `float`-like `Tensor` representing `log(u)` from above.\n",
      "      self_normalized: Python `bool` indicating whether `f'(u=1)=0`. When\n",
      "        `f'(u=1)=0` the implied Csiszar f-Divergence remains non-negative even\n",
      "        when `p, q` are unnormalized measures.\n",
      "      name: Python `str` name prefixed to Ops created by this function.\n",
      "    \n",
      "    Returns:\n",
      "      kl_forward_of_u: `float`-like `Tensor` of the Csiszar-function evaluated at\n",
      "        `u = exp(logu)`.\n",
      "    \n",
      "    Raises:\n",
      "      TypeError: if `self_normalized` is `None` or a `Tensor`.\n",
      "\n"
     ]
    }
   ],
   "source": [
    "help(tfp.vi.kl_forward)"
   ]
  },
  {
   "cell_type": "code",
   "execution_count": 32,
   "metadata": {},
   "outputs": [
    {
     "name": "stdout",
     "output_type": "stream",
     "text": [
      "Help on function kl_forward in module tensorflow_probability.python.vi.csiszar_divergence:\n",
      "\n",
      "kl_forward(logu, self_normalized=False, name=None)\n",
      "    The forward Kullback-Leibler Csiszar-function in log-space.\n",
      "    \n",
      "    A Csiszar-function is a member of,\n",
      "    \n",
      "    ```none\n",
      "    F = { f:R_+ to R : f convex }.\n",
      "    ```\n",
      "    \n",
      "    When `self_normalized = True`, the KL-forward Csiszar-function is:\n",
      "    \n",
      "    ```none\n",
      "    f(u) = u log(u) - (u - 1)\n",
      "    ```\n",
      "    \n",
      "    When `self_normalized = False` the `(u - 1)` term is omitted.\n",
      "    \n",
      "    Observe that as an f-Divergence, this Csiszar-function implies:\n",
      "    \n",
      "    ```none\n",
      "    D_f[p, q] = KL[p, q]\n",
      "    ```\n",
      "    \n",
      "    The KL is \"forward\" because in maximum likelihood we think of minimizing `q`\n",
      "    as in `KL[p, q]`.\n",
      "    \n",
      "    Warning: this function makes non-log-space calculations and may therefore be\n",
      "    numerically unstable for `|logu| >> 0`.\n",
      "    \n",
      "    Args:\n",
      "      logu: `float`-like `Tensor` representing `log(u)` from above.\n",
      "      self_normalized: Python `bool` indicating whether `f'(u=1)=0`. When\n",
      "        `f'(u=1)=0` the implied Csiszar f-Divergence remains non-negative even\n",
      "        when `p, q` are unnormalized measures.\n",
      "      name: Python `str` name prefixed to Ops created by this function.\n",
      "    \n",
      "    Returns:\n",
      "      kl_forward_of_u: `float`-like `Tensor` of the Csiszar-function evaluated at\n",
      "        `u = exp(logu)`.\n",
      "    \n",
      "    Raises:\n",
      "      TypeError: if `self_normalized` is `None` or a `Tensor`.\n",
      "\n"
     ]
    }
   ],
   "source": [
    "help(tfp.vi.kl_forward)"
   ]
  },
  {
   "cell_type": "code",
   "execution_count": null,
   "metadata": {
    "collapsed": true
   },
   "outputs": [],
   "source": []
  }
 ],
 "metadata": {
  "kernelspec": {
   "display_name": "Python 3",
   "language": "python",
   "name": "python3"
  },
  "language_info": {
   "codemirror_mode": {
    "name": "ipython",
    "version": 3
   },
   "file_extension": ".py",
   "mimetype": "text/x-python",
   "name": "python",
   "nbconvert_exporter": "python",
   "pygments_lexer": "ipython3",
   "version": "3.6.3"
  }
 },
 "nbformat": 4,
 "nbformat_minor": 2
}

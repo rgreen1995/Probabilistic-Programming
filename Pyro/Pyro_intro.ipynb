{
 "cells": [
  {
   "cell_type": "code",
   "execution_count": 34,
   "metadata": {
    "collapsed": true
   },
   "outputs": [],
   "source": [
    "import os\n",
    "import numpy as np\n",
    "import torch\n",
    "import torch.nn as nn\n",
    "import seaborn as sns\n",
    "import matplotlib.pyplot as plt\n",
    "import pyro\n",
    "from pyro.distributions import Normal\n",
    "from pyro.infer import SVI, Trace_ELBO\n",
    "from pyro.optim import Adam\n",
    "# for CI testing\n",
    "smoke_test = ('CI' in os.environ)\n",
    "pyro.enable_validation(True)\n",
    "\n",
    "%matplotlib inline"
   ]
  },
  {
   "cell_type": "code",
   "execution_count": 76,
   "metadata": {
    "collapsed": true
   },
   "outputs": [],
   "source": [
    "N = 100  # size of toy data\n",
    "\n",
    "def build_linear_dataset(N, p=50, noise_std=0.5):\n",
    "    X = np.random.rand(N, p)\n",
    "    # w = 3\n",
    "    w = 3 * np.ones(p)\n",
    "    # b = 1\n",
    "    y = np.dot(X**2, w)  + np.random.normal(0, noise_std, size=N)\n",
    "    y = y.reshape(N, 1)\n",
    "    X, y = torch.tensor(X).type(torch.Tensor), torch.tensor(y).type(torch.Tensor)\n",
    "    data = torch.cat((X, y), 1)\n",
    "    assert data.shape == (N, p + 1)\n",
    "    return data"
   ]
  },
  {
   "cell_type": "code",
   "execution_count": 77,
   "metadata": {},
   "outputs": [
    {
     "data": {
      "text/plain": [
       "[<matplotlib.lines.Line2D at 0x1a12bd7da0>]"
      ]
     },
     "execution_count": 77,
     "metadata": {},
     "output_type": "execute_result"
    },
    {
     "data": {
      "image/png": "[encoded data removed]",
      "text/plain": [
       "<matplotlib.figure.Figure at 0x11139f470>"
      ]
     },
     "metadata": {},
     "output_type": "display_data"
    }
   ],
   "source": [
    "data = build_linear_dataset(N)\n",
    "data.shape\n",
    "plt.plot(data.numpy()[2][:])"
   ]
  },
  {
   "cell_type": "code",
   "execution_count": 54,
   "metadata": {
    "collapsed": true
   },
   "outputs": [],
   "source": [
    "class  RegressionModel(nn.Module):\n",
    "    def __init__(self, p):\n",
    "        # p = number of features\n",
    "        super(RegressionModel, self).__init__()\n",
    "        self.linear = nn.Linear(p, 1)\n",
    "\n",
    "    def forward(self, x):\n",
    "        a = self.linear(x)\n",
    "        return torch.sigmoid(a)\n",
    "\n",
    "regression_model = RegressionModel(1)"
   ]
  },
  {
   "cell_type": "code",
   "execution_count": 56,
   "metadata": {},
   "outputs": [
    {
     "name": "stdout",
     "output_type": "stream",
     "text": [
      "[iteration 0050] loss: 20531.9844\n",
      "[iteration 0100] loss: 20531.2637\n",
      "[iteration 0150] loss: 20531.0547\n",
      "[iteration 0200] loss: 20530.9355\n",
      "[iteration 0250] loss: 20530.8809\n",
      "[iteration 0300] loss: 20530.8516\n",
      "[iteration 0350] loss: 20530.8281\n",
      "[iteration 0400] loss: 20530.8105\n",
      "[iteration 0450] loss: 20530.7969\n",
      "[iteration 0500] loss: 20530.7734\n",
      "[iteration 0550] loss: 20530.7598\n",
      "[iteration 0600] loss: 20530.7559\n",
      "[iteration 0650] loss: 20530.7539\n",
      "[iteration 0700] loss: 20530.7500\n",
      "[iteration 0750] loss: 20530.7500\n",
      "[iteration 0800] loss: 20530.7480\n",
      "[iteration 0850] loss: 20530.7441\n",
      "[iteration 0900] loss: 20530.7422\n",
      "[iteration 0950] loss: 20530.7383\n",
      "[iteration 1000] loss: 20530.7402\n",
      "[iteration 1050] loss: 20530.7344\n",
      "[iteration 1100] loss: 20530.7324\n",
      "[iteration 1150] loss: 20530.7305\n",
      "[iteration 1200] loss: 20530.7285\n",
      "[iteration 1250] loss: 20530.7266\n",
      "[iteration 1300] loss: 20530.7246\n",
      "[iteration 1350] loss: 20530.7266\n",
      "[iteration 1400] loss: 20530.7246\n",
      "[iteration 1450] loss: 20530.7188\n",
      "[iteration 1500] loss: 20530.7188\n",
      "[iteration 1550] loss: 20530.7168\n",
      "[iteration 1600] loss: 20530.7168\n",
      "[iteration 1650] loss: 20530.7168\n",
      "[iteration 1700] loss: 20530.7168\n",
      "[iteration 1750] loss: 20530.7148\n",
      "[iteration 1800] loss: 20530.7148\n",
      "[iteration 1850] loss: 20530.7129\n",
      "[iteration 1900] loss: 20530.7129\n",
      "[iteration 1950] loss: 20530.7148\n",
      "[iteration 2000] loss: 20530.7148\n",
      "[iteration 2050] loss: 20530.7148\n",
      "[iteration 2100] loss: 20530.7148\n",
      "[iteration 2150] loss: 20530.7148\n",
      "[iteration 2200] loss: 20530.7148\n",
      "[iteration 2250] loss: 20530.7168\n",
      "[iteration 2300] loss: 20530.7168\n",
      "[iteration 2350] loss: 20530.7168\n",
      "[iteration 2400] loss: 20530.7148\n",
      "[iteration 2450] loss: 20530.7168\n",
      "[iteration 2500] loss: 20530.7168\n",
      "[iteration 2550] loss: 20530.7168\n",
      "[iteration 2600] loss: 20530.7168\n",
      "[iteration 2650] loss: 20530.7188\n",
      "[iteration 2700] loss: 20530.7188\n",
      "[iteration 2750] loss: 20530.7188\n",
      "[iteration 2800] loss: 20530.7188\n",
      "[iteration 2850] loss: 20530.7188\n",
      "[iteration 2900] loss: 20530.7227\n",
      "[iteration 2950] loss: 20530.7207\n",
      "[iteration 3000] loss: 20530.7207\n",
      "[iteration 3050] loss: 20530.7207\n",
      "[iteration 3100] loss: 20530.7207\n",
      "[iteration 3150] loss: 20530.7207\n",
      "[iteration 3200] loss: 20530.7188\n",
      "[iteration 3250] loss: 20530.7188\n",
      "[iteration 3300] loss: 20530.7168\n",
      "[iteration 3350] loss: 20530.7168\n",
      "[iteration 3400] loss: 20530.7188\n",
      "[iteration 3450] loss: 20530.7188\n",
      "[iteration 3500] loss: 20530.7188\n",
      "[iteration 3550] loss: 20530.7188\n",
      "[iteration 3600] loss: 20530.7188\n",
      "[iteration 3650] loss: 20530.7207\n",
      "[iteration 3700] loss: 20530.7207\n",
      "[iteration 3750] loss: 20530.7207\n",
      "[iteration 3800] loss: 20530.7188\n",
      "[iteration 3850] loss: 20530.7188\n",
      "[iteration 3900] loss: 20530.7188\n",
      "[iteration 3950] loss: 20530.7188\n",
      "[iteration 4000] loss: 20530.7188\n",
      "[iteration 4050] loss: 20530.7188\n",
      "[iteration 4100] loss: 20530.7188\n",
      "[iteration 4150] loss: 20530.7188\n",
      "[iteration 4200] loss: 20530.7188\n",
      "[iteration 4250] loss: 20530.7207\n",
      "[iteration 4300] loss: 20530.7207\n",
      "[iteration 4350] loss: 20530.7207\n",
      "[iteration 4400] loss: 20530.7207\n",
      "[iteration 4450] loss: 20530.7207\n",
      "[iteration 4500] loss: 20530.7207\n",
      "[iteration 4550] loss: 20530.7207\n",
      "[iteration 4600] loss: 20530.7207\n",
      "[iteration 4650] loss: 20530.7207\n",
      "[iteration 4700] loss: 20530.7207\n",
      "[iteration 4750] loss: 20530.7207\n",
      "[iteration 4800] loss: 20530.7207\n",
      "[iteration 4850] loss: 20530.7207\n",
      "[iteration 4900] loss: 20530.7188\n",
      "[iteration 4950] loss: 20530.7188\n",
      "[iteration 5000] loss: 20530.7188\n",
      "[iteration 5050] loss: 20530.7188\n",
      "[iteration 5100] loss: 20530.7188\n",
      "[iteration 5150] loss: 20530.7188\n",
      "[iteration 5200] loss: 20530.7188\n",
      "[iteration 5250] loss: 20530.7188\n",
      "[iteration 5300] loss: 20530.7188\n",
      "[iteration 5350] loss: 20530.7188\n",
      "[iteration 5400] loss: 20530.7188\n",
      "[iteration 5450] loss: 20530.7188\n",
      "[iteration 5500] loss: 20530.7188\n",
      "[iteration 5550] loss: 20530.7188\n",
      "[iteration 5600] loss: 20530.7188\n",
      "[iteration 5650] loss: 20530.7188\n",
      "[iteration 5700] loss: 20530.7188\n",
      "[iteration 5750] loss: 20530.7188\n",
      "[iteration 5800] loss: 20530.7188\n",
      "[iteration 5850] loss: 20530.7188\n",
      "[iteration 5900] loss: 20530.7188\n",
      "[iteration 5950] loss: 20530.7188\n",
      "[iteration 6000] loss: 20530.7188\n",
      "[iteration 6050] loss: 20530.7188\n",
      "[iteration 6100] loss: 20530.7188\n",
      "[iteration 6150] loss: 20530.7188\n",
      "[iteration 6200] loss: 20530.7188\n",
      "[iteration 6250] loss: 20530.7188\n",
      "[iteration 6300] loss: 20530.7188\n",
      "[iteration 6350] loss: 20530.7188\n",
      "[iteration 6400] loss: 20530.7188\n",
      "[iteration 6450] loss: 20530.7188\n",
      "[iteration 6500] loss: 20530.7188\n",
      "[iteration 6550] loss: 20530.7188\n",
      "[iteration 6600] loss: 20530.7188\n",
      "[iteration 6650] loss: 20530.7188\n",
      "[iteration 6700] loss: 20530.7188\n",
      "[iteration 6750] loss: 20530.7188\n",
      "[iteration 6800] loss: 20530.7188\n",
      "[iteration 6850] loss: 20530.7188\n",
      "[iteration 6900] loss: 20530.7188\n",
      "[iteration 6950] loss: 20530.7188\n",
      "[iteration 7000] loss: 20530.7188\n",
      "[iteration 7050] loss: 20530.7188\n",
      "[iteration 7100] loss: 20530.7188\n",
      "[iteration 7150] loss: 20530.7188\n",
      "[iteration 7200] loss: 20530.7188\n",
      "[iteration 7250] loss: 20530.7188\n",
      "[iteration 7300] loss: 20530.7188\n",
      "[iteration 7350] loss: 20530.7188\n",
      "[iteration 7400] loss: 20530.7188\n",
      "[iteration 7450] loss: 20530.7188\n",
      "[iteration 7500] loss: 20530.7188\n",
      "[iteration 7550] loss: 20530.7188\n",
      "[iteration 7600] loss: 20530.7188\n",
      "[iteration 7650] loss: 20530.7188\n",
      "[iteration 7700] loss: 20530.7188\n",
      "[iteration 7750] loss: 20530.7188\n",
      "[iteration 7800] loss: 20530.7188\n",
      "[iteration 7850] loss: 20530.7188\n",
      "[iteration 7900] loss: 20530.7188\n",
      "[iteration 7950] loss: 20530.7188\n",
      "[iteration 8000] loss: 20530.7188\n",
      "[iteration 8050] loss: 20530.7188\n",
      "[iteration 8100] loss: 20530.7188\n",
      "[iteration 8150] loss: 20530.7188\n",
      "[iteration 8200] loss: 20530.7188\n",
      "[iteration 8250] loss: 20530.7188\n",
      "[iteration 8300] loss: 20530.7188\n",
      "[iteration 8350] loss: 20530.7188\n",
      "[iteration 8400] loss: 20530.7207\n",
      "[iteration 8450] loss: 20530.7207\n",
      "[iteration 8500] loss: 20530.7207\n",
      "[iteration 8550] loss: 20530.7207\n",
      "[iteration 8600] loss: 20530.7207\n",
      "[iteration 8650] loss: 20530.7207\n",
      "[iteration 8700] loss: 20530.7207\n",
      "[iteration 8750] loss: 20530.7207\n",
      "[iteration 8800] loss: 20530.7207\n",
      "[iteration 8850] loss: 20530.7207\n",
      "[iteration 8900] loss: 20530.7207\n",
      "[iteration 8950] loss: 20530.7207\n",
      "[iteration 9000] loss: 20530.7207\n",
      "[iteration 9050] loss: 20530.7207\n",
      "[iteration 9100] loss: 20530.7207\n",
      "[iteration 9150] loss: 20530.7207\n",
      "[iteration 9200] loss: 20530.7207\n",
      "[iteration 9250] loss: 20530.7207\n",
      "[iteration 9300] loss: 20530.7207\n",
      "[iteration 9350] loss: 20530.7207\n",
      "[iteration 9400] loss: 20530.7207\n",
      "[iteration 9450] loss: 20530.7207\n",
      "[iteration 9500] loss: 20530.7207\n",
      "[iteration 9550] loss: 20530.7207\n",
      "[iteration 9600] loss: 20530.7207\n",
      "[iteration 9650] loss: 20530.7207\n",
      "[iteration 9700] loss: 20530.7207\n",
      "[iteration 9750] loss: 20530.7207\n",
      "[iteration 9800] loss: 20530.7207\n",
      "[iteration 9850] loss: 20530.7207\n",
      "[iteration 9900] loss: 20530.7207\n",
      "[iteration 9950] loss: 20530.7207\n",
      "[iteration 10000] loss: 20530.7207\n",
      "Learned parameters:\n",
      "linear.weight: 10.410\n",
      "linear.bias: 14.036\n"
     ]
    }
   ],
   "source": [
    "loss_fn = torch.nn.MSELoss(size_average=False)\n",
    "optim = torch.optim.Adam(regression_model.parameters(), lr=0.05)\n",
    "num_iterations = 10000 if not smoke_test else 2\n",
    "\n",
    "def main():\n",
    "    data = build_linear_dataset(N)\n",
    "    x_data = data[:, :-1]\n",
    "    y_data = data[:, -1]\n",
    "    for j in range(num_iterations):\n",
    "        # run the model forward on the data\n",
    "        y_pred = regression_model(x_data).squeeze(-1)\n",
    "        # calculate the mse loss\n",
    "        loss = loss_fn(y_pred, y_data)\n",
    "        # initialize gradients to zero\n",
    "        optim.zero_grad()\n",
    "        # backpropagate\n",
    "        loss.backward()\n",
    "        # take a gradient step\n",
    "        optim.step()\n",
    "        if (j + 1) % 500 == 0:\n",
    "            print(\"[iteration %04d] loss: %.4f\" % (j + 1, loss.item()))\n",
    "    # Inspect learned parameters\n",
    "    print(\"Learned parameters:\")\n",
    "    for name, param in regression_model.named_parameters():\n",
    "        print(\"%s: %.3f\" % (name, param.data.numpy()))\n",
    "\n",
    "if __name__ == '__main__':\n",
    "    main()"
   ]
  },
  {
   "cell_type": "code",
   "execution_count": 5,
   "metadata": {
    "collapsed": true
   },
   "outputs": [],
   "source": [
    "loc = torch.zeros(1, 1)\n",
    "scale = torch.ones(1, 1)\n",
    "# define a unit normal prior\n",
    "prior = Normal(loc, scale)\n",
    "# overload the parameters in the regression module with samples from the prior\n",
    "lifted_module = pyro.random_module(\"regression_module\", regression_model, prior)\n",
    "# sample a regressor from the prior\n",
    "sampled_reg_model = lifted_module()\n"
   ]
  },
  {
   "cell_type": "code",
   "execution_count": 7,
   "metadata": {},
   "outputs": [
    {
     "data": {
      "text/plain": [
       "tensor([[ 0.4003,  2.2615],\n",
       "        [ 0.4005,  2.1725],\n",
       "        [ 0.6008,  3.1805],\n",
       "        ...,\n",
       "        [ 0.1380,  1.0328],\n",
       "        [ 0.3884,  3.2729],\n",
       "        [ 0.0751,  1.3887]])"
      ]
     },
     "execution_count": 7,
     "metadata": {},
     "output_type": "execute_result"
    }
   ],
   "source": [
    "data = build_linear_dataset(N)\n",
    "data"
   ]
  },
  {
   "cell_type": "code",
   "execution_count": 94,
   "metadata": {
    "collapsed": true
   },
   "outputs": [],
   "source": [
    "def  model (data):\n",
    "    # Create unit normal priors over the parameters# Creat \n",
    "    loc, scale = torch.zeros(1, 1), 10 * torch.ones(1, 1)\n",
    "    bias_loc, bias_scale = torch.zeros(1), 10 * torch.ones(1)\n",
    "    w_prior = Normal(loc, scale).independent(1)\n",
    "    b_prior = Normal(bias_loc, bias_scale).independent(1)\n",
    "    priors = {'linear.weight': w_prior, 'linear.bias': b_prior}\n",
    "    # lift module parameters to random variables sampled from the priors\n",
    "    lifted_module = pyro.random_module(\"module\", regression_model, priors)\n",
    "    # sample a regressor (which also samples w and b)\n",
    "    lifted_reg_model = lifted_module()\n",
    "    with pyro.iarange(\"map\", N):\n",
    "        x_data = data[:, :-1]\n",
    "        y_data = data[:, -1]\n",
    "    \n",
    "        # run the regressor forward conditioned on data\n",
    "        prediction_mean = lifted_reg_model(x_data).squeeze(-1)\n",
    "        # condition on the observed data\n",
    "        pyro.sample(\"obs\", \n",
    "                    Normal(prediction_mean, 0.1 * torch.ones(data.size(0))),\n",
    "                    obs=y_data)\n"
   ]
  },
  {
   "cell_type": "code",
   "execution_count": 95,
   "metadata": {
    "collapsed": true
   },
   "outputs": [],
   "source": [
    "### Define approximate model to perform variational inference with\n",
    "softplus = torch.nn.Softplus()\n",
    "\n",
    "def guide(data):\n",
    "    # define our variational parameters\n",
    "    w_loc = torch.randn(1, 1)\n",
    "    # note that we initialize our scales to be pretty narrow\n",
    "    w_log_sig = torch.tensor(-3.0 * torch.ones(1, 1) + 0.05 * torch.randn(1, 1))\n",
    "    b_loc = torch.randn(1)\n",
    "    b_log_sig = torch.tensor(-3.0 * torch.ones(1) + 0.05 * torch.randn(1))\n",
    "    # register learnable params in the param store\n",
    "    mw_param = pyro.param(\"guide_mean_weight\", w_loc)\n",
    "    sw_param = softplus(pyro.param(\"guide_log_scale_weight\", w_log_sig))\n",
    "    mb_param = pyro.param(\"guide_mean_bias\", b_loc)\n",
    "    sb_param = softplus(pyro.param(\"guide_log_scale_bias\", b_log_sig))\n",
    "    # guide distributions for w and b\n",
    "    w_dist = Normal(mw_param, sw_param).independent(1)\n",
    "    b_dist = Normal(mb_param, sb_param).independent(1)\n",
    "    dists = {'linear.weight': w_dist, 'linear.bias': b_dist}\n",
    "    # overload the parameters in the module with random samples \n",
    "    # from the guide distributions\n",
    "    lifted_module = pyro.random_module(\"module\", regression_model, dists)\n",
    "    # sample a regressor (which also samples w and b)\n",
    "    return lifted_module()"
   ]
  },
  {
   "cell_type": "code",
   "execution_count": 96,
   "metadata": {
    "collapsed": true
   },
   "outputs": [],
   "source": [
    "optim = Adam({\"lr\": 0.05})\n",
    "svi = SVI(model, guide, optim, loss=Trace_ELBO())"
   ]
  },
  {
   "cell_type": "code",
   "execution_count": 97,
   "metadata": {},
   "outputs": [
    {
     "name": "stdout",
     "output_type": "stream",
     "text": [
      "[iteration 0001] loss: 628.2576\n",
      "[iteration 0101] loss: 10.8955\n",
      "[iteration 0201] loss: 10.9048\n",
      "[iteration 0301] loss: 10.8735\n",
      "[iteration 0401] loss: 10.8955\n",
      "[iteration 0501] loss: 10.8400\n",
      "[iteration 0601] loss: 10.9076\n",
      "[iteration 0701] loss: 10.8670\n",
      "[iteration 0801] loss: 10.8389\n",
      "[iteration 0901] loss: 10.8403\n"
     ]
    }
   ],
   "source": [
    "def  main():\n",
    "    pyro.clear_param_store()\n",
    "    data = build_linear_dataset(N)\n",
    "    for j in range(num_iterations):\n",
    "        # calculate the loss and take a gradient step\n",
    "        loss = svi.step(data)\n",
    "        if j % 100 == 0:\n",
    "            print(\"[iteration %04d] loss: %.4f\" % (j + 1, loss / float(N)))\n",
    "            \n",
    "if __name__ == '__main__':\n",
    "    main()"
   ]
  },
  {
   "cell_type": "code",
   "execution_count": 98,
   "metadata": {},
   "outputs": [
    {
     "name": "stdout",
     "output_type": "stream",
     "text": [
      "[guide_mean_weight]: 3.010\n",
      "[guide_log_scale_weight]: -4.091\n",
      "[guide_mean_bias]: 0.987\n",
      "[guide_log_scale_bias]: -4.425\n"
     ]
    }
   ],
   "source": [
    "for name in pyro.get_param_store().get_all_param_names():\n",
    "    print(\"[%s]: %.3f\" % (name, pyro.param(name).data.numpy()))"
   ]
  },
  {
   "cell_type": "code",
   "execution_count": 100,
   "metadata": {},
   "outputs": [
    {
     "data": {
      "text/plain": [
       "<matplotlib.axes._subplots.AxesSubplot at 0x1a1b169208>"
      ]
     },
     "execution_count": 100,
     "metadata": {},
     "output_type": "execute_result"
    },
    {
     "data": {
      "image/png": "[encoded data removed]",
      "text/plain": [
       "<matplotlib.figure.Figure at 0x1a1b19f1d0>"
      ]
     },
     "metadata": {},
     "output_type": "display_data"
    }
   ],
   "source": [
    "mean = pyro.param('guide_mean_weight').data.numpy()\n",
    "logsd =pyro.param('guide_log_scale_weight').data.numpy()\n",
    "\n",
    "sd = np.exp(logsd)\n",
    "w = np.random.normal(mean[0] , sd[0] , 1000 )\n",
    "\n",
    "sns.distplot(w)"
   ]
  },
  {
   "cell_type": "code",
   "execution_count": 89,
   "metadata": {},
   "outputs": [
    {
     "name": "stdout",
     "output_type": "stream",
     "text": [
      "Loss:  0.26525819301605225\n"
     ]
    }
   ],
   "source": [
    "X  =  np.linspace(6, 7, num=20)\n",
    "y = 3 * X + 1\n",
    "X, y = X.reshape((20, 1)), y.reshape((20, 1))\n",
    "x_data, y_data = torch.tensor(X).type(torch.Tensor), torch.tensor(y).type(torch.Tensor)\n",
    "loss = nn.MSELoss()\n",
    "y_preds = torch.zeros(20, 1)\n",
    "for i in range(20):\n",
    "    # guide does not require the data\n",
    "    sampled_reg_model = guide(None)\n",
    "    # run the regression model and add prediction to total\n",
    "    y_preds = y_preds + sampled_reg_model(x_data)\n",
    "# take the average of the predictions\n",
    "y_preds = y_preds / 20\n",
    "print (\"Loss: \", loss(y_preds, y_data).item())"
   ]
  },
  {
   "cell_type": "code",
   "execution_count": null,
   "metadata": {
    "collapsed": true
   },
   "outputs": [],
   "source": [
    "\n"
   ]
  },
  {
   "cell_type": "code",
   "execution_count": null,
   "metadata": {
    "collapsed": true
   },
   "outputs": [],
   "source": []
  }
 ],
 "metadata": {
  "kernelspec": {
   "display_name": "Python 3",
   "language": "python",
   "name": "python3"
  },
  "language_info": {
   "codemirror_mode": {
    "name": "ipython",
    "version": 3
   },
   "file_extension": ".py",
   "mimetype": "text/x-python",
   "name": "python",
   "nbconvert_exporter": "python",
   "pygments_lexer": "ipython3",
   "version": "3.6.3"
  }
 },
 "nbformat": 4,
 "nbformat_minor": 2
}

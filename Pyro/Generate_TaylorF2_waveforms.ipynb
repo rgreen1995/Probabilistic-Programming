{
 "cells": [
  {
   "cell_type": "code",
   "execution_count": 12,
   "metadata": {},
   "outputs": [
    {
     "name": "stdout",
     "output_type": "stream",
     "text": [
      "The autoreload extension is already loaded. To reload it, use:\n",
      "  %reload_ext autoreload\n"
     ]
    }
   ],
   "source": [
    "%load_ext autoreload\n",
    "%autoreload 2\n",
    "\n",
    "import os\n",
    "\n",
    "from TaylorF2 import TaylorF2\n",
    "import numpy as np\n",
    "import torch\n",
    "import torchvision.datasets as dset\n",
    "import torch.nn as nn\n",
    "import torchvision.transforms as transforms\n",
    "import matplotlib.pyplot as plt\n",
    "import seaborn as sns\n",
    "\n",
    "import pyro\n",
    "import pyro.distributions as dist\n",
    "from pyro.infer import SVI, Trace_ELBO\n",
    "from pyro.optim import Adam , RMSprop"
   ]
  },
  {
   "cell_type": "code",
   "execution_count": 13,
   "metadata": {
    "collapsed": true
   },
   "outputs": [],
   "source": [
    "pyro.enable_validation(True)\n",
    "pyro.distributions.enable_validation(False)\n",
    "pyro.set_rng_seed(0)\n",
    "# Enable smoke test - run§§ the notebook cells on CI.\n",
    "smoke_test = 'CI' in os.environ"
   ]
  },
  {
   "cell_type": "code",
   "execution_count": 14,
   "metadata": {
    "collapsed": true
   },
   "outputs": [],
   "source": [
    "n_train = 20000\n",
    "n_test = 2000\n",
    "\n",
    "q_train = np.random.uniform(1.0,2.0,n_train)\n",
    "m_chirp_train = np.random.uniform(1,2, n_train)\n",
    "chi1_train = np.random.uniform(-1.,1.,n_train)\n",
    "chi2_train = np.zeros(n_train)\n",
    "\n",
    "y_train = np.vstack((q_train,m_chirp_train , chi1_train ,chi2_train ))\n",
    "\n",
    "q_test = np.random.uniform(1.0,5.0,n_test)\n",
    "m_chirp_test = np.random.uniform(1,5, n_test)\n",
    "chi1_test = np.random.uniform(-1.,1.,n_test)\n",
    "chi2_test = np.zeros(n_test)\n",
    "y_test = np.vstack((q_test, m_chirp_test , chi1_test ,chi2_test))"
   ]
  },
  {
   "cell_type": "code",
   "execution_count": 15,
   "metadata": {},
   "outputs": [
    {
     "name": "stderr",
     "output_type": "stream",
     "text": [
      "/Users/Rhys/anaconda3/lib/python3.6/site-packages/ipykernel_launcher.py:20: ComplexWarning: Casting complex values to real discards the imaginary part\n",
      "/Users/Rhys/anaconda3/lib/python3.6/site-packages/ipykernel_launcher.py:26: ComplexWarning: Casting complex values to real discards the imaginary part\n"
     ]
    }
   ],
   "source": [
    "def get_component_from_chirp(M_chirp,q):\n",
    "    \"\"\"Convert chirp mass and mass ratio to component masses\"\"\"\n",
    "    m2 = ((((q+1)**(1./5.))/(q**(3./5.)))*M_chirp)\n",
    "    m1 = q*m2\n",
    "    return m1,m2\n",
    "\n",
    "#chi2 = 0.0 # spin zero\n",
    "#Mchir = 1.0 # chirp mass\n",
    "\n",
    "n_points = 200\n",
    "rescaling =  12.5 # Neural networks seem to work better with normalized data\n",
    "\n",
    "Mf_max = 1.0/(6**(3.0/2.0) * np.pi) # cut at ISCO\n",
    "Mf_array = np.linspace(1e-3, Mf_max, n_points) # Geometric frequency\n",
    "A0 = 1\n",
    "x_train = np.empty((n_train, n_points))\n",
    "for i,(q,Mchir,chi1,chi2) in enumerate(y_train.transpose()):\n",
    "    m1,m2 = get_component_from_chirp(Mchir,q)\n",
    "    pn = TaylorF2(m1, m2, chi1, chi2)\n",
    "    x_train[i] = pn.compute_strain(Mf_array, Mf0=0.01 , A0 =1 )/rescaling\n",
    "    \n",
    "x_test = np.empty((n_test, n_points))\n",
    "for i,(q,Mchir,chi1,chi2) in enumerate(y_test.transpose()):\n",
    "    m1,m2 = get_component_from_chirp(Mchir,q)\n",
    "    pn = TaylorF2(m1, m2, chi1, chi2)\n",
    "    x_test[i] = pn.compute_strain(Mf_array, Mf0=0.01 , A0 =1)/rescaling"
   ]
  },
  {
   "cell_type": "code",
   "execution_count": 16,
   "metadata": {
    "collapsed": true
   },
   "outputs": [],
   "source": [
    "np.savetxt('./train_set.txt' , x_train)\n",
    "np.savetxt('./test_set.txt' , x_test)"
   ]
  },
  {
   "cell_type": "code",
   "execution_count": null,
   "metadata": {
    "collapsed": true
   },
   "outputs": [],
   "source": []
  },
  {
   "cell_type": "code",
   "execution_count": null,
   "metadata": {
    "collapsed": true
   },
   "outputs": [],
   "source": []
  },
  {
   "cell_type": "code",
   "execution_count": null,
   "metadata": {
    "collapsed": true
   },
   "outputs": [],
   "source": []
  }
 ],
 "metadata": {
  "kernelspec": {
   "display_name": "Python 3",
   "language": "python",
   "name": "python3"
  },
  "language_info": {
   "codemirror_mode": {
    "name": "ipython",
    "version": 3
   },
   "file_extension": ".py",
   "mimetype": "text/x-python",
   "name": "python",
   "nbconvert_exporter": "python",
   "pygments_lexer": "ipython3",
   "version": "3.6.3"
  }
 },
 "nbformat": 4,
 "nbformat_minor": 2
}

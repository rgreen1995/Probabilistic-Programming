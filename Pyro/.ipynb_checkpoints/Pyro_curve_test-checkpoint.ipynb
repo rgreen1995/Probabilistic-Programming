{
 "cells": [
  {
   "cell_type": "code",
   "execution_count": 25,
   "metadata": {
    "collapsed": true
   },
   "outputs": [],
   "source": [
    "import os\n",
    "import numpy as np\n",
    "import torch\n",
    "import torch.nn as nn\n",
    "import seaborn as sns\n",
    "import matplotlib.pyplot as plt\n",
    "import pyro\n",
    "from pyro.distributions import Normal , HalfCauchy\n",
    "from pyro.infer import SVI, Trace_ELBO\n",
    "from pyro.infer.mcmc import NUTS, MCMC\n",
    "from pyro.optim import Adam\n",
    "\n",
    "# for CI testing\n",
    "smoke_test = ('CI' in os.environ)\n",
    "pyro.enable_validation(True)\n",
    "\n",
    "%matplotlib inline"
   ]
  },
  {
   "cell_type": "code",
   "execution_count": 48,
   "metadata": {
    "collapsed": true
   },
   "outputs": [],
   "source": [
    "X = torch.randn((10000,))\n",
    "a = torch.tensor(5.)\n",
    "b = torch.tensor(2.)\n",
    "\n",
    "noise = torch.randn((10000,))\n",
    "data = a*X + b*X**2 + noise"
   ]
  },
  {
   "cell_type": "code",
   "execution_count": 95,
   "metadata": {},
   "outputs": [],
   "source": []
  },
  {
   "cell_type": "code",
   "execution_count": 63,
   "metadata": {},
   "outputs": [],
   "source": [
    "def model(x, data ):\n",
    "    a_est = pyro.sample(\"a\", Normal(loc=torch.zeros(1), scale=torch.ones(1)))\n",
    "    b_est = pyro.sample('b' , Normal(loc=torch.zeros(1) , scale = torch.ones(1)))\n",
    "    s2_est = pyro.sample(\"variance\", HalfCauchy(loc=torch.zeros(1), scale=torch.ones(1)))\n",
    "    curve = a_est * x + b_est * x**2\n",
    "    y_hat = pyro.sample(\"yhat\", Normal(loc= curve , scale=s2_est), obs=data)\n",
    "    return y_hat"
   ]
  },
  {
   "cell_type": "code",
   "execution_count": 51,
   "metadata": {},
   "outputs": [
    {
     "data": {
      "text/plain": [
       "<matplotlib.collections.PathCollection at 0x1a0f8b0d30>"
      ]
     },
     "execution_count": 51,
     "metadata": {},
     "output_type": "execute_result"
    },
    {
     "data": {
      "image/png": "[encoded data removed]",
      "text/plain": [
       "<matplotlib.figure.Figure at 0x1a0f88b400>"
      ]
     },
     "metadata": {},
     "output_type": "display_data"
    }
   ],
   "source": [
    "plt.scatter(X.numpy() , data.numpy())"
   ]
  },
  {
   "cell_type": "code",
   "execution_count": 6,
   "metadata": {},
   "outputs": [],
   "source": [
    "# nuts_kernel = NUTS(model, adapt_step_size=True)\n",
    "# mcmc_run = MCMC(nuts_kernel, num_samples=500, warmup_steps=100).run(X, data)"
   ]
  },
  {
   "cell_type": "code",
   "execution_count": 7,
   "metadata": {},
   "outputs": [],
   "source": [
    "# a_posterior = pyro.infer.EmpiricalMarginal(mcmc_run, \"a\")\n",
    "# b_posterior = pyro.infer.EmpiricalMarginal(mcmc_run, \"b\")\n",
    "# plt.figure()\n",
    "# figa = sns.distplot(a_posterior.get_samples_and_weights()[0])\n",
    "# figa.set(xlabel = 'a')\n",
    "# plt.figure()\n",
    "# figb = sns.distplot(b_posterior.get_samples_and_weights()[0])\n",
    "# figb.set(xlabel = 'b')\n",
    "# plt.show()"
   ]
  },
  {
   "cell_type": "code",
   "execution_count": null,
   "metadata": {
    "collapsed": true
   },
   "outputs": [],
   "source": []
  }
 ],
 "metadata": {
  "kernelspec": {
   "display_name": "Python 3",
   "language": "python",
   "name": "python3"
  },
  "language_info": {
   "codemirror_mode": {
    "name": "ipython",
    "version": 3
   },
   "file_extension": ".py",
   "mimetype": "text/x-python",
   "name": "python",
   "nbconvert_exporter": "python",
   "pygments_lexer": "ipython3",
   "version": "3.6.3"
  }
 },
 "nbformat": 4,
 "nbformat_minor": 2
}

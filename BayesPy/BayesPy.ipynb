{
 "cells": [
  {
   "cell_type": "code",
   "execution_count": 60,
   "metadata": {
    "collapsed": true
   },
   "outputs": [],
   "source": [
    "from bayespy.nodes import Gaussian, Gamma\n",
    "from bayespy.inference import VB\n",
    "from bayespy.nodes import Dirichlet, Categorical\n",
    "from bayespy.nodes import Gaussian, Wishart\n",
    "from bayespy.nodes import GaussianARD, Wishart\n",
    "\n",
    "from bayespy.nodes import Mixture\n",
    "import numpy as np\n",
    "import matplotlib.pyplot as plt\n",
    "import bayespy.plot as bpplt\n"
   ]
  },
  {
   "cell_type": "code",
   "execution_count": 61,
   "metadata": {
    "collapsed": true
   },
   "outputs": [],
   "source": [
    "data = np.random.normal(5, 1, size=(100,))\n",
    "xrange = np.linspace(0,10,100)"
   ]
  },
  {
   "cell_type": "code",
   "execution_count": 62,
   "metadata": {},
   "outputs": [
    {
     "data": {
      "image/png": "[encoded data removed]",
      "text/plain": [
       "<matplotlib.figure.Figure at 0x151266b358>"
      ]
     },
     "metadata": {},
     "output_type": "display_data"
    }
   ],
   "source": [
    "plt.figure()\n",
    "plt.hist(data , 50)\n",
    "plt.show()"
   ]
  },
  {
   "cell_type": "code",
   "execution_count": 63,
   "metadata": {},
   "outputs": [],
   "source": [
    "mu = GaussianARD(0, 1)\n",
    "tau = Gamma(10**-6, 10**-6)\n",
    "y = GaussianARD(mu, tau, plates=(100,))\n",
    "#### here we define our model using graphical model notation"
   ]
  },
  {
   "cell_type": "code",
   "execution_count": 64,
   "metadata": {
    "collapsed": true
   },
   "outputs": [],
   "source": [
    "y.observe(data)"
   ]
  },
  {
   "cell_type": "code",
   "execution_count": 65,
   "metadata": {
    "collapsed": true
   },
   "outputs": [],
   "source": [
    "Q = VB(mu, tau, y)"
   ]
  },
  {
   "cell_type": "code",
   "execution_count": 66,
   "metadata": {},
   "outputs": [
    {
     "name": "stdout",
     "output_type": "stream",
     "text": [
      "Iteration 1: loglike=-1.719460e+02 (0.003 seconds)\n",
      "Iteration 2: loglike=-1.719456e+02 (0.004 seconds)\n",
      "Converged at iteration 2.\n"
     ]
    }
   ],
   "source": [
    "Q.update(repeat= 50)"
   ]
  },
  {
   "cell_type": "code",
   "execution_count": 67,
   "metadata": {},
   "outputs": [
    {
     "data": {
      "image/png": "[encoded data removed]",
      "text/plain": [
       "<matplotlib.figure.Figure at 0x1512580e80>"
      ]
     },
     "metadata": {},
     "output_type": "display_data"
    }
   ],
   "source": [
    "plt.subplot(2,1,1)\n",
    "bpplt.pdf(mu, np.linspace(2, 8, num=100), color='k', name=r'\\mu')\n",
    "#bpplt.pyplot.subplot(2, 1, 2)\n",
    "#bpplt.pdf(tau, np.linspace(1e-6, 200, num=100), color='k', name=r'\\tau')\n",
    "bpplt.pyplot.show()\n"
   ]
  },
  {
   "cell_type": "code",
   "execution_count": null,
   "metadata": {},
   "outputs": [],
   "source": [
    "## not sure what this is showing\n",
    "bpplt.pdf(y, np.linspace(-10, 10, num=100), color='k', name=r'y')\n",
    "#bpplt.pyplot.subplot(2, 1, 2)\n",
    "plt.show()"
   ]
  },
  {
   "cell_type": "markdown",
   "metadata": {},
   "source": [
    "### Gaussian Mixture Model"
   ]
  },
  {
   "cell_type": "code",
   "execution_count": 19,
   "metadata": {
    "collapsed": true
   },
   "outputs": [],
   "source": [
    "y0 = np.random.multivariate_normal([0, 0], [[2, 0], [0, 0.1]], size=100)\n",
    "y1 = np.random.multivariate_normal([10, 5], [[0.1, 0], [0, 2]], size=100)\n",
    "y2 = np.random.multivariate_normal([-10, 8], [[2, -1.5], [-1.5, 2]], size=100)\n",
    "y3 = np.random.multivariate_normal([-2, -20], [[0.5, 0], [0, 0.5]], size=100)\n",
    "y = np.vstack([y0, y1, y2, y3])"
   ]
  },
  {
   "cell_type": "code",
   "execution_count": 20,
   "metadata": {},
   "outputs": [
    {
     "data": {
      "image/png": "[encoded data removed]",
      "text/plain": [
       "<matplotlib.figure.Figure at 0x111496f98>"
      ]
     },
     "metadata": {},
     "output_type": "display_data"
    }
   ],
   "source": [
    "bpplt.pyplot.plot(y[:,0], y[:,1], 'rx')\n",
    "plt.show()"
   ]
  },
  {
   "cell_type": "code",
   "execution_count": 51,
   "metadata": {
    "collapsed": true
   },
   "outputs": [],
   "source": [
    "### define variables essential to the problem \n",
    "N = 400    # number of points\n",
    "D = 2      # dimensionality of data\n",
    "K = 8  ##number of groups must be at least as big as true value\n"
   ]
  },
  {
   "cell_type": "code",
   "execution_count": 52,
   "metadata": {
    "collapsed": true
   },
   "outputs": [],
   "source": [
    "alpha = Dirichlet(1e-5*np.ones(K),\n",
    "                   name='alpha')\n",
    "Z = Categorical(alpha,\n",
    "                plates=(N,),\n",
    "                name='z')"
   ]
  },
  {
   "cell_type": "code",
   "execution_count": 53,
   "metadata": {
    "collapsed": true
   },
   "outputs": [],
   "source": [
    "mu = Gaussian(np.zeros(D), 1e-5*np.identity(D),\n",
    "               plates=(K,),\n",
    "             name='mu')\n",
    "Lambda = Wishart(D, 1e-5*np.identity(D),\n",
    "                  plates=(K,),\n",
    "                 name='Lambda')"
   ]
  },
  {
   "cell_type": "code",
   "execution_count": 54,
   "metadata": {
    "collapsed": true
   },
   "outputs": [],
   "source": [
    "Y = Mixture(Z, Gaussian, mu, Lambda\n",
    "            ,name='Y')\n",
    "Z.initialize_from_random()\n"
   ]
  },
  {
   "cell_type": "code",
   "execution_count": 55,
   "metadata": {
    "collapsed": true
   },
   "outputs": [],
   "source": [
    "from bayespy.inference import VB\n",
    "Q = VB(Y, mu, Lambda, Z, alpha)\n"
   ]
  },
  {
   "cell_type": "code",
   "execution_count": 56,
   "metadata": {
    "collapsed": true
   },
   "outputs": [],
   "source": [
    "Y.observe(y)"
   ]
  },
  {
   "cell_type": "code",
   "execution_count": 57,
   "metadata": {},
   "outputs": [
    {
     "name": "stdout",
     "output_type": "stream",
     "text": [
      "Iteration 1: loglike=-3.471494e+03 (0.015 seconds)\n",
      "Iteration 2: loglike=-3.328712e+03 (0.010 seconds)\n",
      "Iteration 3: loglike=-3.261308e+03 (0.010 seconds)\n",
      "Iteration 4: loglike=-3.084459e+03 (0.009 seconds)\n",
      "Iteration 5: loglike=-2.806744e+03 (0.014 seconds)\n",
      "Iteration 6: loglike=-2.575329e+03 (0.012 seconds)\n",
      "Iteration 7: loglike=-2.408190e+03 (0.009 seconds)\n",
      "Iteration 8: loglike=-2.176848e+03 (0.009 seconds)\n",
      "Iteration 9: loglike=-2.073795e+03 (0.008 seconds)\n",
      "Iteration 10: loglike=-1.942705e+03 (0.010 seconds)\n",
      "Iteration 11: loglike=-1.856558e+03 (0.009 seconds)\n",
      "Iteration 12: loglike=-1.803009e+03 (0.008 seconds)\n",
      "Iteration 13: loglike=-1.772844e+03 (0.008 seconds)\n",
      "Iteration 14: loglike=-1.772540e+03 (0.008 seconds)\n",
      "Iteration 15: loglike=-1.772287e+03 (0.009 seconds)\n",
      "Iteration 16: loglike=-1.772038e+03 (0.008 seconds)\n",
      "Iteration 17: loglike=-1.771777e+03 (0.008 seconds)\n",
      "Iteration 18: loglike=-1.771488e+03 (0.008 seconds)\n",
      "Iteration 19: loglike=-1.771156e+03 (0.008 seconds)\n",
      "Iteration 20: loglike=-1.770767e+03 (0.009 seconds)\n",
      "Iteration 21: loglike=-1.770305e+03 (0.008 seconds)\n",
      "Iteration 22: loglike=-1.769752e+03 (0.009 seconds)\n",
      "Iteration 23: loglike=-1.769085e+03 (0.009 seconds)\n",
      "Iteration 24: loglike=-1.768289e+03 (0.009 seconds)\n",
      "Iteration 25: loglike=-1.767378e+03 (0.011 seconds)\n",
      "Iteration 26: loglike=-1.766392e+03 (0.010 seconds)\n",
      "Iteration 27: loglike=-1.765409e+03 (0.010 seconds)\n",
      "Iteration 28: loglike=-1.764498e+03 (0.012 seconds)\n",
      "Iteration 29: loglike=-1.763566e+03 (0.008 seconds)\n",
      "Iteration 30: loglike=-1.762417e+03 (0.008 seconds)\n",
      "Iteration 31: loglike=-1.760161e+03 (0.008 seconds)\n",
      "Iteration 32: loglike=-1.748485e+03 (0.009 seconds)\n",
      "Iteration 33: loglike=-1.736768e+03 (0.009 seconds)\n",
      "Iteration 34: loglike=-1.722054e+03 (0.009 seconds)\n",
      "Iteration 35: loglike=-1.722054e+03 (0.010 seconds)\n",
      "Converged at iteration 35.\n"
     ]
    }
   ],
   "source": [
    "Q.update(repeat=1000)"
   ]
  },
  {
   "cell_type": "code",
   "execution_count": 59,
   "metadata": {},
   "outputs": [
    {
     "data": {
      "image/png": "[encoded data removed]",
      "text/plain": [
       "<matplotlib.figure.Figure at 0x151266b6d8>"
      ]
     },
     "metadata": {},
     "output_type": "display_data"
    }
   ],
   "source": [
    "plt.figure()\n",
    "bpplt.gaussian_mixture_2d(Y, alpha=alpha, scale=3)\n",
    "plt.xlabel('x')\n",
    "plt.ylabel('y')\n",
    "plt.show()"
   ]
  },
  {
   "cell_type": "code",
   "execution_count": null,
   "metadata": {},
   "outputs": [],
   "source": []
  },
  {
   "cell_type": "code",
   "execution_count": null,
   "metadata": {},
   "outputs": [],
   "source": []
  },
  {
   "cell_type": "code",
   "execution_count": null,
   "metadata": {
    "collapsed": true
   },
   "outputs": [],
   "source": []
  },
  {
   "cell_type": "code",
   "execution_count": null,
   "metadata": {
    "collapsed": true
   },
   "outputs": [],
   "source": []
  }
 ],
 "metadata": {
  "kernelspec": {
   "display_name": "Python 3",
   "language": "python",
   "name": "python3"
  },
  "language_info": {
   "codemirror_mode": {
    "name": "ipython",
    "version": 3
   },
   "file_extension": ".py",
   "mimetype": "text/x-python",
   "name": "python",
   "nbconvert_exporter": "python",
   "pygments_lexer": "ipython3",
   "version": "3.6.3"
  }
 },
 "nbformat": 4,
 "nbformat_minor": 2
}

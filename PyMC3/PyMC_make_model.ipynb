{
 "cells": [
  {
   "cell_type": "code",
   "execution_count": null,
   "metadata": {
    "collapsed": true
   },
   "outputs": [],
   "source": [
    "import pymc3 as pm\n",
    "import numpy as np \n",
    "import matplotlib.pyplot as plt\n",
    "import seaborn as sns\n",
    "import theano\n",
    "from pymc3.distributions import Continuous\n",
    "from pymc3.distributions import distribution\n",
    "%matplotlib inline"
   ]
  },
  {
   "cell_type": "code",
   "execution_count": null,
   "metadata": {},
   "outputs": [],
   "source": [
    "frequencies = np.loadtxt('/Users/Rhys/Documents/PhD/Maths_docs/PyMC3/frequencies_test.txt')\n",
    "frequencies = 2*frequencies[1:]\n",
    "frequencies.shape"
   ]
  },
  {
   "cell_type": "code",
   "execution_count": null,
   "metadata": {
    "collapsed": true
   },
   "outputs": [],
   "source": [
    "def lambda0(neta , mass):        \n",
    "    return 3/(128 * neta * (np.pi*mass)**(5/3))\n",
    "def phase(tc , phic , f, neta , mass ):\n",
    "    rh_term = lambda0(neta , mass)*f**(-4/3)\n",
    "    return 2*np.pi*f*tc + phic + rh_term\n",
    "def strain(amplitude , mass , distance, neta , f ,tc , phic ):\n",
    "    exponent = 1j*phase(tc, phic, f, neta ,lambda0(neta, mass)) + 1j*(np.pi/4) \n",
    "    return (amplitude * mass**(5/6))/(distance*np.pi**(2/3))* ((5*neta)/(24))**(-7/6)*np.exp(exponent)"
   ]
  },
  {
   "cell_type": "code",
   "execution_count": null,
   "metadata": {},
   "outputs": [],
   "source": [
    "waveform = strain(10**-3, 30 , 1 , 0.25 , 2*frequencies , 0 , 0)\n",
    "waveform1 = strain(10**-3, 10 , 1 , 0.25 , 2*frequencies , 0 , 0)\n",
    "\n",
    "diff = np.linalg.norm(waveform - waveform1)\n",
    "diff"
   ]
  },
  {
   "cell_type": "code",
   "execution_count": null,
   "metadata": {},
   "outputs": [],
   "source": [
    "waveform = strain(10**-3, 30 , 1 , 0.25 , 2*frequencies , 0 , 0)\n",
    "plt.plot(2*frequencies,waveform)\n",
    "plt.show()"
   ]
  },
  {
   "cell_type": "code",
   "execution_count": null,
   "metadata": {
    "collapsed": true
   },
   "outputs": [],
   "source": [
    "from theano.compile.nanguardmode import NanGuardMode\n",
    "mode = NanGuardMode(nan_is_error=True, inf_is_error=True, big_is_error=True)"
   ]
  },
  {
   "cell_type": "code",
   "execution_count": null,
   "metadata": {},
   "outputs": [],
   "source": [
    "with pm.Model() as gw_model:\n",
    "    neta = pm.Normal('neta' , mu = 0.1 , sd = 0.2)\n",
    "    mass = pm.Normal('mass' , mu = 25 , sd = 100)\n",
    "    amplitude \n",
    "    phase = 3/(128 * neta * (np.pi*mass)**(5/3))*frequencies**(-4/3)\n",
    "    exponent = 1j*phase + 1j*(np.pi/4) \n",
    "    strain = (10**-3 * mass**(5/6))/(np.pi**(2/3))* ((5*neta)/(24))**(-7/6)*np.exp(exponent)\n",
    "    diff = np.linalg.norm(waveform - strain)\n",
    "    likelihood = pm.Normal('obs' , mu = diff\n",
    "                           , sd =1 , observed = np.random.normal( 0 , 1, len(waveform)))"
   ]
  },
  {
   "cell_type": "code",
   "execution_count": null,
   "metadata": {},
   "outputs": [],
   "source": [
    "right = gw_model.logp({'mass': 30 , 'neta':0.25})\n",
    "wrong = gw_model.logp({'mass': 100 , 'neta':0.1})\n"
   ]
  },
  {
   "cell_type": "code",
   "execution_count": null,
   "metadata": {},
   "outputs": [],
   "source": [
    "print(right)\n",
    "print(wrong)"
   ]
  },
  {
   "cell_type": "code",
   "execution_count": null,
   "metadata": {},
   "outputs": [],
   "source": [
    "with gw_model : \n",
    "    approx = pm.fit(method = 'advi',  n = 50000)\n",
    "#     trace = pm.sample(2000 , method = '' , tune = 500)\n",
    "    "
   ]
  },
  {
   "cell_type": "code",
   "execution_count": null,
   "metadata": {
    "collapsed": true
   },
   "outputs": [],
   "source": []
  }
 ],
 "metadata": {
  "kernelspec": {
   "display_name": "Python 3",
   "language": "python",
   "name": "python3"
  },
  "language_info": {
   "codemirror_mode": {
    "name": "ipython",
    "version": 3
   },
   "file_extension": ".py",
   "mimetype": "text/x-python",
   "name": "python",
   "nbconvert_exporter": "python",
   "pygments_lexer": "ipython3",
   "version": "3.6.3"
  }
 },
 "nbformat": 4,
 "nbformat_minor": 2
}
